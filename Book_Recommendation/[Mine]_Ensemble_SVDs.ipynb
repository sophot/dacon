{
 "cells": [
  {
   "cell_type": "markdown",
   "id": "566a8cd4",
   "metadata": {},
   "source": [
    "#### [배경]\n",
    "안녕하세요, 여러분! 😀 제2회 코스포 x 데이콘 도서 추천 알고리즘 AI경진대회(채용 연계형)에 오신 것을 환영합니다.\n",
    "\n",
    "\n",
    "\n",
    "추천시스템이란 과거 구매행동 분석을 통해 향후 구매할 것이라 예상되는 제품을 자동으로 검색하여 제공하는 시스템입니다.\n",
    "\n",
    "이를 통해 고객은 더 적은 노력으로 원하는 상품을 발견할 수 있으며, 구매 결정을 더욱 쉽게 내리게 함으로써 쇼핑몰의 매출 증가에도 기여합니다.\n",
    "\n",
    "고객 경험을 개선하여 매출 증대에 기여하기 위해 최근에는 많은 기업들이 추천 시스템의 개발 연구에 많은 노력을 기울이고 있습니다.\n",
    "\n",
    "\n",
    "\n",
    "이번 대회는 채용 연계형으로, 문제 해결 능력이 우수한 인재는 스타트업에 추천됩니다.\n",
    "\n",
    "\n",
    "\n",
    "#### [주제]\n",
    "도서 추천 알고리즘 AI 모델 개발\n",
    "\n",
    "\n",
    "\n",
    "#### [설명]\n",
    "유저 정보와 도서 정보를 바탕으로,\n",
    "\n",
    "유저가 부여한 도서 평점을 회귀 예측하는 AI 모델을 개발해야 합니다.\n",
    "\n",
    "\n",
    "\n",
    "본 대회는 개인전으로 진행되며 채용 연계형 대회입니다.\n",
    "\n",
    "대회 종료 후 데이콘이 최종 코드와 솔루션 자료를 검증하고, 우수한 인재를 코리아스타트업포럼 회원사 스타트업에 추천합니다."
   ]
  },
  {
   "cell_type": "code",
   "execution_count": 1,
   "id": "92fafbc6",
   "metadata": {},
   "outputs": [],
   "source": [
    "import time\n",
    "import pandas as pd\n",
    "from surprise import SVD, SVDpp, Dataset, Reader, accuracy\n",
    "from surprise.model_selection import cross_validate, GridSearchCV"
   ]
  },
  {
   "cell_type": "markdown",
   "id": "1ac2f4bf",
   "metadata": {},
   "source": [
    "## Load Data"
   ]
  },
  {
   "cell_type": "code",
   "execution_count": 2,
   "id": "5aade2b0",
   "metadata": {},
   "outputs": [],
   "source": [
    "train = pd.read_csv('./train.csv')\n",
    "test = pd.read_csv('./test.csv')"
   ]
  },
  {
   "cell_type": "code",
   "execution_count": 3,
   "id": "7407ac87",
   "metadata": {},
   "outputs": [],
   "source": [
    "# Surprise 라이브러리용 Reader 및 Dataset 객체 생성\n",
    "reader = Reader(rating_scale=(0, 10))\n",
    "train = Dataset.load_from_df(train[['User-ID', 'Book-ID', 'Book-Rating']], reader)"
   ]
  },
  {
   "cell_type": "markdown",
   "id": "40862512",
   "metadata": {},
   "source": [
    "## Parameters Tuning"
   ]
  },
  {
   "cell_type": "markdown",
   "id": "aae35925",
   "metadata": {},
   "source": [
    "### Tuning SVD"
   ]
  },
  {
   "cell_type": "code",
   "execution_count": null,
   "id": "a807a542",
   "metadata": {},
   "outputs": [],
   "source": [
    "param_grid = {\"n_epochs\": [15], \"lr_all\": [0.0035, 0.004], \"reg_all\": [0.5, 0.1, 0.15], \"n_factors\": [3, 5, 10]}\n",
    "gs = GridSearchCV(SVD, param_grid, measures=[\"rmse\"], cv=3)\n",
    "gs.fit(train)\n",
    "print(\"Done.\")"
   ]
  },
  {
   "cell_type": "code",
   "execution_count": 23,
   "id": "053e7eab",
   "metadata": {},
   "outputs": [
    {
     "name": "stdout",
     "output_type": "stream",
     "text": [
      "{'rmse': 3.419399762751754}\n",
      "{'rmse': {'n_epochs': 15, 'lr_all': 0.004, 'reg_all': 0.2, 'n_factors': 5}}\n"
     ]
    }
   ],
   "source": [
    "# 1st RUN\n",
    "print(gs.best_score)\n",
    "print(gs.best_params)"
   ]
  },
  {
   "cell_type": "code",
   "execution_count": 7,
   "id": "82091d4e",
   "metadata": {},
   "outputs": [
    {
     "name": "stdout",
     "output_type": "stream",
     "text": [
      "{'rmse': 3.418821353387598}\n",
      "{'rmse': {'n_epochs': 15, 'lr_all': 0.004, 'reg_all': 0.1, 'n_factors': 3}}\n"
     ]
    }
   ],
   "source": [
    "# 2nd RUN\n",
    "print(gs.best_score)\n",
    "print(gs.best_params)"
   ]
  },
  {
   "cell_type": "code",
   "execution_count": 10,
   "id": "491bdbce",
   "metadata": {},
   "outputs": [
    {
     "name": "stdout",
     "output_type": "stream",
     "text": [
      "{'rmse': 3.4168375355416924}\n",
      "{'rmse': {'n_epochs': 15, 'lr_all': 0.004, 'reg_all': 0.15, 'n_factors': 3}}\n"
     ]
    }
   ],
   "source": [
    "# 3rd RUN\n",
    "print(gs.best_score)\n",
    "print(gs.best_params)"
   ]
  },
  {
   "cell_type": "markdown",
   "id": "5618fa72",
   "metadata": {},
   "source": [
    "#### Checking how well SVD does"
   ]
  },
  {
   "cell_type": "code",
   "execution_count": 5,
   "id": "1d01153d",
   "metadata": {},
   "outputs": [
    {
     "data": {
      "text/plain": [
       "{'test_rmse': array([3.41994225, 3.41433136, 3.41046539]),\n",
       " 'fit_time': (3.3977558612823486, 3.500286340713501, 3.52862811088562),\n",
       " 'test_time': (1.9803352355957031, 1.8988232612609863, 1.9033949375152588)}"
      ]
     },
     "execution_count": 5,
     "metadata": {},
     "output_type": "execute_result"
    }
   ],
   "source": [
    "params = {'n_epochs': 15, 'lr_all': 0.004, 'reg_all': 0.15, 'n_factors': 3}\n",
    "svd = SVD(**params)\n",
    "cross_validate(svd, train, measures=['RMSE'], cv=3, verbose=False)"
   ]
  },
  {
   "cell_type": "code",
   "execution_count": 4,
   "id": "69b89794",
   "metadata": {},
   "outputs": [
    {
     "data": {
      "text/plain": [
       "{'test_rmse': array([3.41637341, 3.41539549, 3.42517588]),\n",
       " 'fit_time': (3.4813151359558105, 3.667008399963379, 3.6680119037628174),\n",
       " 'test_time': (2.280870199203491, 1.8877503871917725, 1.9583783149719238)}"
      ]
     },
     "execution_count": 4,
     "metadata": {},
     "output_type": "execute_result"
    }
   ],
   "source": [
    "params = {'n_epochs': 15, 'lr_all': 0.004, 'reg_all': 0.15, 'n_factors': 5}\n",
    "svd = SVD(**params)\n",
    "cross_validate(svd, train, measures=['RMSE'], cv=3, verbose=False)"
   ]
  },
  {
   "cell_type": "markdown",
   "id": "70f1ebac",
   "metadata": {},
   "source": [
    "### Tuning SVD++"
   ]
  },
  {
   "cell_type": "code",
   "execution_count": 11,
   "id": "1dfb618b",
   "metadata": {},
   "outputs": [
    {
     "name": "stdout",
     "output_type": "stream",
     "text": [
      "Done.\n"
     ]
    }
   ],
   "source": [
    "param_grid = {\"n_epochs\": [15], \"lr_all\": [0.003, 0.004], \"reg_all\": [0.1, 0.2], \"n_factors\": [5, 10]}\n",
    "gs = GridSearchCV(SVDpp, param_grid, measures=[\"rmse\"], cv=3)\n",
    "gs.fit(train)\n",
    "print(\"Done.\")"
   ]
  },
  {
   "cell_type": "code",
   "execution_count": 12,
   "id": "d2b6d5f1",
   "metadata": {},
   "outputs": [
    {
     "name": "stdout",
     "output_type": "stream",
     "text": [
      "{'rmse': 3.427634180220371}\n",
      "{'rmse': {'n_epochs': 15, 'lr_all': 0.004, 'reg_all': 0.2, 'n_factors': 5}}\n"
     ]
    }
   ],
   "source": [
    "# 1st RUN\n",
    "print(gs.best_score)\n",
    "print(gs.best_params)"
   ]
  },
  {
   "cell_type": "code",
   "execution_count": null,
   "id": "5ce298c7",
   "metadata": {},
   "outputs": [],
   "source": []
  },
  {
   "cell_type": "markdown",
   "id": "eeedd9fe",
   "metadata": {},
   "source": [
    "## Optional"
   ]
  },
  {
   "cell_type": "code",
   "execution_count": 4,
   "id": "64be9692",
   "metadata": {},
   "outputs": [
    {
     "name": "stdout",
     "output_type": "stream",
     "text": [
      "Original training data size : 871393\n",
      "After removing data of books which have less than 5 rating from users : 547006\n",
      "After removing data of users who rated less than 5 books : 469321\n",
      "Done.\n"
     ]
    }
   ],
   "source": [
    "print(f\"Original training data size : {train.df.shape[0]}\")\n",
    "train_clean = train.df.groupby('Book-ID').filter(lambda x:len(x) >= 5)\n",
    "print(f\"After removing data of books which have less than 5 rating from users : {train_clean.shape[0]}\")\n",
    "train_clean = train_clean.groupby('User-ID').filter(lambda x:len(x) >= 5)\n",
    "print(f\"After removing data of users who rated less than 5 books : {train_clean.shape[0]}\")\n",
    "train = Dataset.load_from_df(train_clean, reader)\n",
    "print(\"Done.\")"
   ]
  },
  {
   "cell_type": "code",
   "execution_count": null,
   "id": "4ad5ab7b",
   "metadata": {},
   "outputs": [],
   "source": []
  },
  {
   "cell_type": "markdown",
   "id": "7ce94998",
   "metadata": {},
   "source": [
    "## Ensemble Training"
   ]
  },
  {
   "cell_type": "code",
   "execution_count": 4,
   "id": "eeb5555f",
   "metadata": {},
   "outputs": [
    {
     "name": "stdout",
     "output_type": "stream",
     "text": [
      "==>> TRAINING model 1\n",
      "=== Time took : (0.04) minutes ===\n",
      "==>> TRAINING model 2\n",
      "=== Time took : (0.04) minutes ===\n",
      "==>> TRAINING model 3\n",
      "=== Time took : (0.04) minutes ===\n",
      "==>> TRAINING model 4\n",
      "=== Time took : (0.04) minutes ===\n",
      "==>> TRAINING model 5\n",
      "=== Time took : (0.04) minutes ===\n",
      "==>> TRAINING model 6\n",
      "=== Time took : (0.04) minutes ===\n",
      "==>> TRAINING model 7\n",
      "=== Time took : (0.04) minutes ===\n",
      "==>> TRAINING model 8\n",
      "=== Time took : (0.04) minutes ===\n",
      "==>> TRAINING model 9\n",
      "=== Time took : (0.04) minutes ===\n"
     ]
    }
   ],
   "source": [
    "train = train.build_full_trainset()\n",
    "\n",
    "##################################################\n",
    "# SVD++ #\n",
    "svdpp_params = {\n",
    "    'n_epochs': 15, \n",
    "    'lr_all': 0.004, \n",
    "    'reg_all': 0.15,\n",
    "    'cache_ratings': False\n",
    "}\n",
    "model1 = SVDpp(**svdpp_params, n_factors=3)\n",
    "model2 = SVDpp(**svdpp_params, n_factors=4)\n",
    "\n",
    "##################################################\n",
    "# SVD #\n",
    "svd_params = {\n",
    "    'n_epochs': 15, \n",
    "    'lr_all': 0.004\n",
    "}\n",
    "model3 = SVD(**svd_params, reg_all=0.1, n_factors=3)\n",
    "model4 = SVD(**svd_params, reg_all=0.1, n_factors=4)\n",
    "model5 = SVD(**svd_params, reg_all=0.1, n_factors=5)\n",
    "model6 = SVD(**svd_params, reg_all=0.15, n_factors=3)\n",
    "model7 = SVD(**svd_params, reg_all=0.15, n_factors=4)\n",
    "model8 = SVD(**svd_params, reg_all=0.15, n_factors=5)\n",
    "model9 = SVD(**svd_params, reg_all=0.125, n_factors=3)\n",
    "model10 = SVD(**svd_params, reg_all=0.125, n_factors=4)\n",
    "model11 = SVD(**svd_params, reg_all=0.125, n_factors=5)\n",
    "\n",
    "# all_models = [model1, model2, model3, model4, model5, model6, model7, model8]\n",
    "all_svds = [model3, model4, model5, model6, model7, model8, model9, model10, model11]\n",
    "\n",
    "for i, model in enumerate(all_svds):\n",
    "    start_time = time.time()\n",
    "    print(\"==>> TRAINING model\", i+1)\n",
    "    \n",
    "    model.fit(train)\n",
    "    \n",
    "    end_time = time.time()\n",
    "    duration = (end_time-start_time)/60\n",
    "    print(f\"=== Time took : ({duration:.2f}) minutes ===\")\n",
    "    "
   ]
  },
  {
   "cell_type": "code",
   "execution_count": null,
   "id": "346f43f6",
   "metadata": {},
   "outputs": [],
   "source": []
  },
  {
   "cell_type": "markdown",
   "id": "513acecc",
   "metadata": {},
   "source": [
    "## Ensemble Prediction"
   ]
  },
  {
   "cell_type": "code",
   "execution_count": 5,
   "id": "f291b204",
   "metadata": {},
   "outputs": [
    {
     "name": "stdout",
     "output_type": "stream",
     "text": [
      "Done.\n"
     ]
    }
   ],
   "source": [
    "submit1 = pd.read_csv('./sample_submission.csv')\n",
    "submit2 = pd.read_csv('./sample_submission.csv')\n",
    "submit3 = pd.read_csv('./sample_submission.csv')\n",
    "submit4 = pd.read_csv('./sample_submission.csv')\n",
    "submit5 = pd.read_csv('./sample_submission.csv')\n",
    "submit6 = pd.read_csv('./sample_submission.csv')\n",
    "submit7 = pd.read_csv('./sample_submission.csv')\n",
    "submit8 = pd.read_csv('./sample_submission.csv')\n",
    "submit9 = pd.read_csv('./sample_submission.csv')\n",
    "submit10 = pd.read_csv('./sample_submission.csv')\n",
    "submit11 = pd.read_csv('./sample_submission.csv')\n",
    "\n",
    "# submit1['Book-Rating'] = test.apply(lambda row: model1.predict(row['User-ID'], row['Book-ID']).est, axis=1)\n",
    "# submit2['Book-Rating'] = test.apply(lambda row: model2.predict(row['User-ID'], row['Book-ID']).est, axis=1)\n",
    "submit3['Book-Rating'] = test.apply(lambda row: model3.predict(row['User-ID'], row['Book-ID']).est, axis=1)\n",
    "submit4['Book-Rating'] = test.apply(lambda row: model4.predict(row['User-ID'], row['Book-ID']).est, axis=1)\n",
    "submit5['Book-Rating'] = test.apply(lambda row: model5.predict(row['User-ID'], row['Book-ID']).est, axis=1)\n",
    "submit6['Book-Rating'] = test.apply(lambda row: model6.predict(row['User-ID'], row['Book-ID']).est, axis=1)\n",
    "submit7['Book-Rating'] = test.apply(lambda row: model7.predict(row['User-ID'], row['Book-ID']).est, axis=1)\n",
    "submit8['Book-Rating'] = test.apply(lambda row: model8.predict(row['User-ID'], row['Book-ID']).est, axis=1)\n",
    "submit9['Book-Rating'] = test.apply(lambda row: model9.predict(row['User-ID'], row['Book-ID']).est, axis=1)\n",
    "submit10['Book-Rating'] = test.apply(lambda row: model10.predict(row['User-ID'], row['Book-ID']).est, axis=1)\n",
    "submit11['Book-Rating'] = test.apply(lambda row: model11.predict(row['User-ID'], row['Book-ID']).est, axis=1)\n",
    "print(\"Done.\")"
   ]
  },
  {
   "cell_type": "markdown",
   "id": "29f49635",
   "metadata": {},
   "source": [
    "### SVD++s Ensemble"
   ]
  },
  {
   "cell_type": "code",
   "execution_count": 6,
   "id": "5f0db764",
   "metadata": {},
   "outputs": [],
   "source": [
    "ensemble_svdpp_submit = pd.concat([submit1, submit2])\n",
    "averaged_ratings = ensemble_svdpp_submit.groupby('ID')['Book-Rating'].mean().reset_index()\n",
    "averaged_ratings.to_csv('./Submissions/4_tuned_ensemble_2SVDpps.csv', index=False)"
   ]
  },
  {
   "cell_type": "markdown",
   "id": "75dfd386",
   "metadata": {},
   "source": [
    "### SVDs Ensemble"
   ]
  },
  {
   "cell_type": "code",
   "execution_count": 6,
   "id": "9234fa28",
   "metadata": {},
   "outputs": [],
   "source": [
    "ensemble_svd_submit = pd.concat([submit3, submit4, submit5, submit6, submit7, submit8, submit9, submit10, submit11])\n",
    "averaged_ratings = ensemble_svd_submit.groupby('ID')['Book-Rating'].mean().reset_index()\n",
    "averaged_ratings.to_csv('./Submissions/5_ensemble_SVDs.csv', index=False)"
   ]
  },
  {
   "cell_type": "markdown",
   "id": "a7819c71",
   "metadata": {},
   "source": [
    "### All Models Ensemble"
   ]
  },
  {
   "cell_type": "code",
   "execution_count": 7,
   "id": "7882995b",
   "metadata": {},
   "outputs": [],
   "source": [
    "ensemble_all_submit = pd.concat([submit1, submit2, submit3, submit4, submit5, submit6, submit7, submit8])\n",
    "averaged_ratings = ensemble_all_submit.groupby('ID')['Book-Rating'].mean().reset_index()\n",
    "averaged_ratings.to_csv('./Submissions/4_ensemble_AllSVDs.csv', index=False)"
   ]
  },
  {
   "cell_type": "code",
   "execution_count": null,
   "id": "ba919d20",
   "metadata": {},
   "outputs": [],
   "source": []
  }
 ],
 "metadata": {
  "kernelspec": {
   "display_name": "phot",
   "language": "python",
   "name": "phot"
  },
  "language_info": {
   "codemirror_mode": {
    "name": "ipython",
    "version": 3
   },
   "file_extension": ".py",
   "mimetype": "text/x-python",
   "name": "python",
   "nbconvert_exporter": "python",
   "pygments_lexer": "ipython3",
   "version": "3.8.16"
  }
 },
 "nbformat": 4,
 "nbformat_minor": 5
}
