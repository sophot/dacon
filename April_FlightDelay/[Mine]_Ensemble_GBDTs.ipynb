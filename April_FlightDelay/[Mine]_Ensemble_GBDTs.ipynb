{
 "cells": [
  {
   "cell_type": "code",
   "execution_count": 21,
   "id": "80c80339",
   "metadata": {},
   "outputs": [],
   "source": [
    "import pandas as pd\n",
    "import numpy as np\n",
    "import random\n",
    "import os\n",
    "import gc\n",
    "\n",
    "from xgboost import XGBClassifier\n",
    "from lightgbm import LGBMClassifier\n",
    "from catboost import CatBoostClassifier\n",
    "\n",
    "from sklearn.metrics import log_loss\n",
    "from sklearn.model_selection import GridSearchCV, train_test_split\n",
    "from sklearn.model_selection import StratifiedKFold\n",
    "from sklearn.preprocessing import LabelEncoder, MinMaxScaler"
   ]
  },
  {
   "cell_type": "code",
   "execution_count": 22,
   "id": "09c5ccb0",
   "metadata": {},
   "outputs": [],
   "source": [
    "def seed_everything(seed):\n",
    "    random.seed(seed)\n",
    "    os.environ['PYTHONHASHSEED'] = str(seed)\n",
    "    np.random.seed(seed)\n",
    "seed_everything(42) # Seed 고정"
   ]
  },
  {
   "cell_type": "markdown",
   "id": "817bc98a-2046-4da1-8878-5104ba931bc3",
   "metadata": {},
   "source": [
    "# csv to parquet\n",
    "메모리에 효율적인 데이터 유형을 사용하여 용량을 줄이고 빠른 작업이 가능합니다"
   ]
  },
  {
   "cell_type": "code",
   "execution_count": 23,
   "id": "7cc6c827",
   "metadata": {},
   "outputs": [],
   "source": [
    "def csv_to_parquet(csv_path, save_name):\n",
    "    df = pd.read_csv(csv_path)\n",
    "    df.to_parquet(f'./{save_name}.parquet')\n",
    "    del df\n",
    "    gc.collect()\n",
    "    print(save_name, 'Done.')# csv to parquet"
   ]
  },
  {
   "cell_type": "code",
   "execution_count": 24,
   "id": "d3b4e3f4",
   "metadata": {},
   "outputs": [
    {
     "name": "stdout",
     "output_type": "stream",
     "text": [
      "train Done.\n",
      "test Done.\n"
     ]
    }
   ],
   "source": [
    "csv_to_parquet('./train.csv', 'train')\n",
    "csv_to_parquet('./test.csv', 'test')"
   ]
  },
  {
   "cell_type": "code",
   "execution_count": 25,
   "id": "222aaa1f",
   "metadata": {},
   "outputs": [],
   "source": [
    "train = pd.read_parquet('./train.parquet')\n",
    "test = pd.read_parquet('./test.parquet')\n",
    "sample_submission = pd.read_csv('sample_submission.csv', index_col = 0)"
   ]
  },
  {
   "cell_type": "markdown",
   "id": "fdf53d4e-957d-4b3f-8d6b-0335822e1794",
   "metadata": {},
   "source": [
    "## Data Pre-Processing"
   ]
  },
  {
   "cell_type": "code",
   "execution_count": 26,
   "id": "008fcabc",
   "metadata": {},
   "outputs": [
    {
     "name": "stdout",
     "output_type": "stream",
     "text": [
      "Done.\n"
     ]
    }
   ],
   "source": [
    "#레이블(Delay)을 제외한 결측값이 존재하는 변수들을 학습 데이터의 최빈값으로 대체합니다\n",
    "NaN_col = ['Origin_State','Destination_State','Airline','Estimated_Departure_Time', 'Estimated_Arrival_Time','Carrier_Code(IATA)','Carrier_ID(DOT)']\n",
    "\n",
    "for col in NaN_col:\n",
    "    mode = train[col].mode()[0]\n",
    "    train[col] = train[col].fillna(mode)\n",
    "    \n",
    "    if col in test.columns:\n",
    "        test[col] = test[col].fillna(mode)\n",
    "print('Done.')"
   ]
  },
  {
   "cell_type": "code",
   "execution_count": 27,
   "id": "fe4c160c",
   "metadata": {},
   "outputs": [
    {
     "name": "stdout",
     "output_type": "stream",
     "text": [
      "Done.\n"
     ]
    }
   ],
   "source": [
    "#질적 변수들을 수치화합니다\n",
    "qual_col = ['Origin_Airport', 'Origin_State', 'Destination_Airport', 'Destination_State', 'Airline', 'Carrier_Code(IATA)', 'Tail_Number']\n",
    "\n",
    "for i in qual_col:\n",
    "    le = LabelEncoder()\n",
    "    le=le.fit(train[i])\n",
    "    train[i]=le.transform(train[i])\n",
    "    \n",
    "    for label in np.unique(test[i]):\n",
    "        if label not in le.classes_: \n",
    "            le.classes_ = np.append(le.classes_, label)\n",
    "    test[i]=le.transform(test[i])\n",
    "print('Done.')"
   ]
  },
  {
   "cell_type": "code",
   "execution_count": 28,
   "id": "be157ff3",
   "metadata": {},
   "outputs": [
    {
     "name": "stdout",
     "output_type": "stream",
     "text": [
      "Original Size:  (1000000, 19)\n"
     ]
    }
   ],
   "source": [
    "print(\"Original Size: \", train.shape)"
   ]
  },
  {
   "cell_type": "code",
   "execution_count": 29,
   "id": "25b30244",
   "metadata": {},
   "outputs": [],
   "source": [
    "# Drop rows with missing values\n",
    "train = train.dropna()"
   ]
  },
  {
   "cell_type": "code",
   "execution_count": 30,
   "id": "d69eecdc",
   "metadata": {},
   "outputs": [
    {
     "name": "stdout",
     "output_type": "stream",
     "text": [
      "Size After Dropping Missing Values:  (255001, 19)\n"
     ]
    }
   ],
   "source": [
    "print(\"Size After Dropping Missing Values: \", train.shape)"
   ]
  },
  {
   "cell_type": "code",
   "execution_count": 31,
   "id": "304d8b65",
   "metadata": {},
   "outputs": [
    {
     "data": {
      "text/html": [
       "<div>\n",
       "<style scoped>\n",
       "    .dataframe tbody tr th:only-of-type {\n",
       "        vertical-align: middle;\n",
       "    }\n",
       "\n",
       "    .dataframe tbody tr th {\n",
       "        vertical-align: top;\n",
       "    }\n",
       "\n",
       "    .dataframe thead th {\n",
       "        text-align: right;\n",
       "    }\n",
       "</style>\n",
       "<table border=\"1\" class=\"dataframe\">\n",
       "  <thead>\n",
       "    <tr style=\"text-align: right;\">\n",
       "      <th></th>\n",
       "      <th>ID</th>\n",
       "      <th>Month</th>\n",
       "      <th>Day_of_Month</th>\n",
       "      <th>Estimated_Departure_Time</th>\n",
       "      <th>Estimated_Arrival_Time</th>\n",
       "      <th>Cancelled</th>\n",
       "      <th>Diverted</th>\n",
       "      <th>Origin_Airport</th>\n",
       "      <th>Origin_Airport_ID</th>\n",
       "      <th>Origin_State</th>\n",
       "      <th>Destination_Airport</th>\n",
       "      <th>Destination_Airport_ID</th>\n",
       "      <th>Destination_State</th>\n",
       "      <th>Distance</th>\n",
       "      <th>Airline</th>\n",
       "      <th>Carrier_Code(IATA)</th>\n",
       "      <th>Carrier_ID(DOT)</th>\n",
       "      <th>Tail_Number</th>\n",
       "      <th>Delay</th>\n",
       "    </tr>\n",
       "  </thead>\n",
       "  <tbody>\n",
       "    <tr>\n",
       "      <th>5</th>\n",
       "      <td>TRAIN_000005</td>\n",
       "      <td>4</td>\n",
       "      <td>13</td>\n",
       "      <td>1545.0</td>\n",
       "      <td>1900.0</td>\n",
       "      <td>0</td>\n",
       "      <td>0</td>\n",
       "      <td>119</td>\n",
       "      <td>11618</td>\n",
       "      <td>4</td>\n",
       "      <td>93</td>\n",
       "      <td>11278</td>\n",
       "      <td>47</td>\n",
       "      <td>199.0</td>\n",
       "      <td>21</td>\n",
       "      <td>8</td>\n",
       "      <td>20452.0</td>\n",
       "      <td>3435</td>\n",
       "      <td>Not_Delayed</td>\n",
       "    </tr>\n",
       "    <tr>\n",
       "      <th>6</th>\n",
       "      <td>TRAIN_000006</td>\n",
       "      <td>1</td>\n",
       "      <td>20</td>\n",
       "      <td>1742.0</td>\n",
       "      <td>1903.0</td>\n",
       "      <td>0</td>\n",
       "      <td>0</td>\n",
       "      <td>119</td>\n",
       "      <td>11618</td>\n",
       "      <td>28</td>\n",
       "      <td>47</td>\n",
       "      <td>10721</td>\n",
       "      <td>19</td>\n",
       "      <td>200.0</td>\n",
       "      <td>26</td>\n",
       "      <td>8</td>\n",
       "      <td>19393.0</td>\n",
       "      <td>3495</td>\n",
       "      <td>Not_Delayed</td>\n",
       "    </tr>\n",
       "    <tr>\n",
       "      <th>8</th>\n",
       "      <td>TRAIN_000008</td>\n",
       "      <td>6</td>\n",
       "      <td>13</td>\n",
       "      <td>1420.0</td>\n",
       "      <td>1550.0</td>\n",
       "      <td>0</td>\n",
       "      <td>0</td>\n",
       "      <td>59</td>\n",
       "      <td>10821</td>\n",
       "      <td>4</td>\n",
       "      <td>74</td>\n",
       "      <td>11057</td>\n",
       "      <td>31</td>\n",
       "      <td>361.0</td>\n",
       "      <td>23</td>\n",
       "      <td>10</td>\n",
       "      <td>19393.0</td>\n",
       "      <td>4083</td>\n",
       "      <td>Not_Delayed</td>\n",
       "    </tr>\n",
       "    <tr>\n",
       "      <th>10</th>\n",
       "      <td>TRAIN_000010</td>\n",
       "      <td>8</td>\n",
       "      <td>13</td>\n",
       "      <td>1730.0</td>\n",
       "      <td>1844.0</td>\n",
       "      <td>0</td>\n",
       "      <td>0</td>\n",
       "      <td>93</td>\n",
       "      <td>11278</td>\n",
       "      <td>47</td>\n",
       "      <td>277</td>\n",
       "      <td>14122</td>\n",
       "      <td>36</td>\n",
       "      <td>204.0</td>\n",
       "      <td>21</td>\n",
       "      <td>0</td>\n",
       "      <td>19393.0</td>\n",
       "      <td>241</td>\n",
       "      <td>Delayed</td>\n",
       "    </tr>\n",
       "    <tr>\n",
       "      <th>12</th>\n",
       "      <td>TRAIN_000012</td>\n",
       "      <td>1</td>\n",
       "      <td>12</td>\n",
       "      <td>1015.0</td>\n",
       "      <td>1145.0</td>\n",
       "      <td>0</td>\n",
       "      <td>0</td>\n",
       "      <td>72</td>\n",
       "      <td>11042</td>\n",
       "      <td>33</td>\n",
       "      <td>94</td>\n",
       "      <td>11292</td>\n",
       "      <td>5</td>\n",
       "      <td>1201.0</td>\n",
       "      <td>23</td>\n",
       "      <td>10</td>\n",
       "      <td>19393.0</td>\n",
       "      <td>5171</td>\n",
       "      <td>Not_Delayed</td>\n",
       "    </tr>\n",
       "    <tr>\n",
       "      <th>13</th>\n",
       "      <td>TRAIN_000013</td>\n",
       "      <td>9</td>\n",
       "      <td>19</td>\n",
       "      <td>615.0</td>\n",
       "      <td>706.0</td>\n",
       "      <td>0</td>\n",
       "      <td>0</td>\n",
       "      <td>215</td>\n",
       "      <td>13158</td>\n",
       "      <td>42</td>\n",
       "      <td>94</td>\n",
       "      <td>11292</td>\n",
       "      <td>5</td>\n",
       "      <td>563.0</td>\n",
       "      <td>22</td>\n",
       "      <td>8</td>\n",
       "      <td>20304.0</td>\n",
       "      <td>579</td>\n",
       "      <td>Not_Delayed</td>\n",
       "    </tr>\n",
       "    <tr>\n",
       "      <th>19</th>\n",
       "      <td>TRAIN_000019</td>\n",
       "      <td>7</td>\n",
       "      <td>14</td>\n",
       "      <td>1907.0</td>\n",
       "      <td>2145.0</td>\n",
       "      <td>0</td>\n",
       "      <td>0</td>\n",
       "      <td>30</td>\n",
       "      <td>10529</td>\n",
       "      <td>6</td>\n",
       "      <td>22</td>\n",
       "      <td>10397</td>\n",
       "      <td>8</td>\n",
       "      <td>859.0</td>\n",
       "      <td>9</td>\n",
       "      <td>3</td>\n",
       "      <td>19790.0</td>\n",
       "      <td>6147</td>\n",
       "      <td>Not_Delayed</td>\n",
       "    </tr>\n",
       "    <tr>\n",
       "      <th>28</th>\n",
       "      <td>TRAIN_000028</td>\n",
       "      <td>8</td>\n",
       "      <td>7</td>\n",
       "      <td>930.0</td>\n",
       "      <td>1900.0</td>\n",
       "      <td>0</td>\n",
       "      <td>0</td>\n",
       "      <td>309</td>\n",
       "      <td>14679</td>\n",
       "      <td>4</td>\n",
       "      <td>193</td>\n",
       "      <td>12889</td>\n",
       "      <td>26</td>\n",
       "      <td>258.0</td>\n",
       "      <td>24</td>\n",
       "      <td>7</td>\n",
       "      <td>20416.0</td>\n",
       "      <td>3233</td>\n",
       "      <td>Not_Delayed</td>\n",
       "    </tr>\n",
       "    <tr>\n",
       "      <th>32</th>\n",
       "      <td>TRAIN_000032</td>\n",
       "      <td>6</td>\n",
       "      <td>20</td>\n",
       "      <td>750.0</td>\n",
       "      <td>1014.0</td>\n",
       "      <td>0</td>\n",
       "      <td>0</td>\n",
       "      <td>256</td>\n",
       "      <td>13930</td>\n",
       "      <td>11</td>\n",
       "      <td>202</td>\n",
       "      <td>12945</td>\n",
       "      <td>15</td>\n",
       "      <td>323.0</td>\n",
       "      <td>23</td>\n",
       "      <td>8</td>\n",
       "      <td>20366.0</td>\n",
       "      <td>327</td>\n",
       "      <td>Not_Delayed</td>\n",
       "    </tr>\n",
       "    <tr>\n",
       "      <th>34</th>\n",
       "      <td>TRAIN_000034</td>\n",
       "      <td>11</td>\n",
       "      <td>21</td>\n",
       "      <td>610.0</td>\n",
       "      <td>748.0</td>\n",
       "      <td>0</td>\n",
       "      <td>0</td>\n",
       "      <td>156</td>\n",
       "      <td>12156</td>\n",
       "      <td>4</td>\n",
       "      <td>331</td>\n",
       "      <td>14869</td>\n",
       "      <td>45</td>\n",
       "      <td>402.0</td>\n",
       "      <td>22</td>\n",
       "      <td>3</td>\n",
       "      <td>19393.0</td>\n",
       "      <td>1386</td>\n",
       "      <td>Not_Delayed</td>\n",
       "    </tr>\n",
       "  </tbody>\n",
       "</table>\n",
       "</div>"
      ],
      "text/plain": [
       "              ID  Month  Day_of_Month  Estimated_Departure_Time  \\\n",
       "5   TRAIN_000005      4            13                    1545.0   \n",
       "6   TRAIN_000006      1            20                    1742.0   \n",
       "8   TRAIN_000008      6            13                    1420.0   \n",
       "10  TRAIN_000010      8            13                    1730.0   \n",
       "12  TRAIN_000012      1            12                    1015.0   \n",
       "13  TRAIN_000013      9            19                     615.0   \n",
       "19  TRAIN_000019      7            14                    1907.0   \n",
       "28  TRAIN_000028      8             7                     930.0   \n",
       "32  TRAIN_000032      6            20                     750.0   \n",
       "34  TRAIN_000034     11            21                     610.0   \n",
       "\n",
       "    Estimated_Arrival_Time  Cancelled  Diverted  Origin_Airport  \\\n",
       "5                   1900.0          0         0             119   \n",
       "6                   1903.0          0         0             119   \n",
       "8                   1550.0          0         0              59   \n",
       "10                  1844.0          0         0              93   \n",
       "12                  1145.0          0         0              72   \n",
       "13                   706.0          0         0             215   \n",
       "19                  2145.0          0         0              30   \n",
       "28                  1900.0          0         0             309   \n",
       "32                  1014.0          0         0             256   \n",
       "34                   748.0          0         0             156   \n",
       "\n",
       "    Origin_Airport_ID  Origin_State  Destination_Airport  \\\n",
       "5               11618             4                   93   \n",
       "6               11618            28                   47   \n",
       "8               10821             4                   74   \n",
       "10              11278            47                  277   \n",
       "12              11042            33                   94   \n",
       "13              13158            42                   94   \n",
       "19              10529             6                   22   \n",
       "28              14679             4                  193   \n",
       "32              13930            11                  202   \n",
       "34              12156             4                  331   \n",
       "\n",
       "    Destination_Airport_ID  Destination_State  Distance  Airline  \\\n",
       "5                    11278                 47     199.0       21   \n",
       "6                    10721                 19     200.0       26   \n",
       "8                    11057                 31     361.0       23   \n",
       "10                   14122                 36     204.0       21   \n",
       "12                   11292                  5    1201.0       23   \n",
       "13                   11292                  5     563.0       22   \n",
       "19                   10397                  8     859.0        9   \n",
       "28                   12889                 26     258.0       24   \n",
       "32                   12945                 15     323.0       23   \n",
       "34                   14869                 45     402.0       22   \n",
       "\n",
       "    Carrier_Code(IATA)  Carrier_ID(DOT)  Tail_Number        Delay  \n",
       "5                    8          20452.0         3435  Not_Delayed  \n",
       "6                    8          19393.0         3495  Not_Delayed  \n",
       "8                   10          19393.0         4083  Not_Delayed  \n",
       "10                   0          19393.0          241      Delayed  \n",
       "12                  10          19393.0         5171  Not_Delayed  \n",
       "13                   8          20304.0          579  Not_Delayed  \n",
       "19                   3          19790.0         6147  Not_Delayed  \n",
       "28                   7          20416.0         3233  Not_Delayed  \n",
       "32                   8          20366.0          327  Not_Delayed  \n",
       "34                   3          19393.0         1386  Not_Delayed  "
      ]
     },
     "execution_count": 31,
     "metadata": {},
     "output_type": "execute_result"
    }
   ],
   "source": [
    "train.head(10)"
   ]
  },
  {
   "cell_type": "code",
   "execution_count": 32,
   "id": "74c00139",
   "metadata": {},
   "outputs": [
    {
     "data": {
      "text/plain": [
       "Not_Delayed    210001\n",
       "Delayed         45000\n",
       "Name: Delay, dtype: int64"
      ]
     },
     "execution_count": 32,
     "metadata": {},
     "output_type": "execute_result"
    }
   ],
   "source": [
    "train[\"Delay\"].value_counts()"
   ]
  },
  {
   "cell_type": "code",
   "execution_count": 33,
   "id": "a33a6e98",
   "metadata": {},
   "outputs": [
    {
     "name": "stdout",
     "output_type": "stream",
     "text": [
      "Done.\n"
     ]
    }
   ],
   "source": [
    "column_number = {}\n",
    "for i, column in enumerate(sample_submission.columns):\n",
    "    column_number[column] = i\n",
    "    \n",
    "def to_number(x, dic):\n",
    "    return dic[x]\n",
    "\n",
    "train.loc[:, 'Delay_num'] = train['Delay'].apply(lambda x: to_number(x, column_number))\n",
    "print('Done.')"
   ]
  },
  {
   "cell_type": "code",
   "execution_count": 34,
   "id": "e24256b2",
   "metadata": {},
   "outputs": [],
   "source": [
    "x_train = train.drop(columns=['ID', 'Delay', 'Delay_num'])\n",
    "y_train = train['Delay_num']\n",
    "x_test = test.drop(columns=['ID'])"
   ]
  },
  {
   "cell_type": "markdown",
   "id": "f082e530",
   "metadata": {},
   "source": [
    "## Balancing the data"
   ]
  },
  {
   "cell_type": "code",
   "execution_count": 35,
   "id": "495f042a",
   "metadata": {},
   "outputs": [],
   "source": [
    "from imblearn.under_sampling import RandomUnderSampler"
   ]
  },
  {
   "cell_type": "code",
   "execution_count": 36,
   "id": "7459fdd9",
   "metadata": {},
   "outputs": [
    {
     "data": {
      "text/plain": [
       "array([45000, 45000])"
      ]
     },
     "execution_count": 36,
     "metadata": {},
     "output_type": "execute_result"
    }
   ],
   "source": [
    "# Resample using random undersampling\n",
    "rus = RandomUnderSampler(random_state=42)\n",
    "x_train, y_train = rus.fit_resample(x_train, y_train)\n",
    "np.bincount(y_train)"
   ]
  },
  {
   "cell_type": "markdown",
   "id": "d951db71",
   "metadata": {},
   "source": [
    "## Train-Test-Split"
   ]
  },
  {
   "cell_type": "code",
   "execution_count": 37,
   "id": "bae11a9d",
   "metadata": {},
   "outputs": [],
   "source": [
    "# Split the training dataset into a training set and a validation set\n",
    "x_train, x_val, y_train, y_val = train_test_split(x_train, y_train, test_size=0.2, random_state=42)"
   ]
  },
  {
   "cell_type": "code",
   "execution_count": 38,
   "id": "cad85e74",
   "metadata": {},
   "outputs": [],
   "source": [
    "# Normalize numerical features\n",
    "scaler = MinMaxScaler()\n",
    "x_train = scaler.fit_transform(x_train)\n",
    "x_val = scaler.transform(x_val)\n",
    "x_test = scaler.transform(x_test)"
   ]
  },
  {
   "cell_type": "markdown",
   "id": "89d39716",
   "metadata": {},
   "source": [
    "## Create GBDT models"
   ]
  },
  {
   "cell_type": "code",
   "execution_count": 54,
   "id": "ed422906",
   "metadata": {},
   "outputs": [],
   "source": [
    "# create instances of the three classifiers\n",
    "xgb = XGBClassifier()\n",
    "lgbm = LGBMClassifier()\n",
    "catboost = CatBoostClassifier(verbose=False)"
   ]
  },
  {
   "cell_type": "markdown",
   "id": "3492074d",
   "metadata": {},
   "source": [
    "## Initializing Hyper-param search space"
   ]
  },
  {
   "cell_type": "code",
   "execution_count": 40,
   "id": "5ff907f8",
   "metadata": {},
   "outputs": [],
   "source": [
    "param_grid = {\n",
    "    'learning_rate': [0.01, 0.1],\n",
    "    'max_depth': [3, 5, 7],\n",
    "    'n_estimators': [100, 200, 300],\n",
    "}"
   ]
  },
  {
   "cell_type": "code",
   "execution_count": 41,
   "id": "0094c036",
   "metadata": {},
   "outputs": [],
   "source": [
    "# Cross-validation with StratifiedKFold\n",
    "cv = StratifiedKFold(n_splits=5, shuffle=True, random_state=42)"
   ]
  },
  {
   "cell_type": "markdown",
   "id": "885dbc1b",
   "metadata": {},
   "source": [
    "### XGB"
   ]
  },
  {
   "cell_type": "code",
   "execution_count": 42,
   "id": "c52ba92b",
   "metadata": {},
   "outputs": [
    {
     "name": "stdout",
     "output_type": "stream",
     "text": [
      "Done.\n"
     ]
    }
   ],
   "source": [
    "xgb_grid_search = GridSearchCV(xgb, param_grid=param_grid, cv=cv, scoring='neg_log_loss')\n",
    "xgb_grid_search.fit(x_train, y_train)\n",
    "print(\"Done.\")"
   ]
  },
  {
   "cell_type": "code",
   "execution_count": 43,
   "id": "a1c0c3e1",
   "metadata": {},
   "outputs": [
    {
     "name": "stdout",
     "output_type": "stream",
     "text": [
      "[XGB] LogLoss on validation set: 0.6531475996569627\n"
     ]
    }
   ],
   "source": [
    "xgb_best = xgb_grid_search.best_estimator_\n",
    "y_pred_xgb = xgb_best.predict_proba(x_val)\n",
    "logloss = log_loss(y_val, y_pred_xgb)\n",
    "print(\"[XGB] LogLoss on validation set:\", logloss)"
   ]
  },
  {
   "cell_type": "markdown",
   "id": "2020bf65",
   "metadata": {},
   "source": [
    "### LightGBM"
   ]
  },
  {
   "cell_type": "code",
   "execution_count": 44,
   "id": "8acc19fe",
   "metadata": {},
   "outputs": [
    {
     "name": "stdout",
     "output_type": "stream",
     "text": [
      "Done.\n"
     ]
    }
   ],
   "source": [
    "lgbm_grid_search = GridSearchCV(lgbm, param_grid=param_grid, cv=cv, scoring='neg_log_loss')\n",
    "lgbm_grid_search.fit(x_train, y_train)\n",
    "print(\"Done.\")"
   ]
  },
  {
   "cell_type": "code",
   "execution_count": 45,
   "id": "43008bee",
   "metadata": {},
   "outputs": [
    {
     "name": "stdout",
     "output_type": "stream",
     "text": [
      "[LightGBM] LogLoss on validation set: 0.6531765581935641\n"
     ]
    }
   ],
   "source": [
    "lgbm_best = lgbm_grid_search.best_estimator_\n",
    "y_pred_lgbm = lgbm_best.predict_proba(x_val)\n",
    "logloss = log_loss(y_val, y_pred_lgbm)\n",
    "print(\"[LightGBM] LogLoss on validation set:\", logloss)"
   ]
  },
  {
   "cell_type": "markdown",
   "id": "3b9691bb",
   "metadata": {},
   "source": [
    "### CatBoost"
   ]
  },
  {
   "cell_type": "code",
   "execution_count": 55,
   "id": "f85510ae",
   "metadata": {},
   "outputs": [
    {
     "name": "stdout",
     "output_type": "stream",
     "text": [
      "Done.\n"
     ]
    }
   ],
   "source": [
    "catboost_grid_search = GridSearchCV(catboost, param_grid=param_grid, cv=cv, scoring='neg_log_loss')\n",
    "catboost_grid_search.fit(x_train, y_train)\n",
    "print(\"Done.\")"
   ]
  },
  {
   "cell_type": "code",
   "execution_count": 47,
   "id": "28e9cf97",
   "metadata": {},
   "outputs": [
    {
     "name": "stdout",
     "output_type": "stream",
     "text": [
      "[CatBoost] LogLoss on validation set: 0.6547052660660392\n"
     ]
    }
   ],
   "source": [
    "catboost_best = catboost_grid_search.best_estimator_\n",
    "y_pred_cb = catboost_best.predict_proba(x_val)\n",
    "logloss = log_loss(y_val, y_pred_cb)\n",
    "print(\"[CatBoost] LogLoss on validation set:\", logloss)"
   ]
  },
  {
   "cell_type": "markdown",
   "id": "12d9ab1a",
   "metadata": {},
   "source": [
    "## Inference"
   ]
  },
  {
   "cell_type": "code",
   "execution_count": 48,
   "id": "0e5a289f",
   "metadata": {},
   "outputs": [
    {
     "name": "stdout",
     "output_type": "stream",
     "text": [
      "Done.\n"
     ]
    }
   ],
   "source": [
    "y_pred_xgb = xgb_best.predict_proba(x_test)\n",
    "y_pred_lgbm = lgbm_best.predict_proba(x_test)\n",
    "y_pred_cb = catboost_best.predict_proba(x_test)\n",
    "print(\"Done.\")"
   ]
  },
  {
   "cell_type": "markdown",
   "id": "e0767f8f",
   "metadata": {},
   "source": [
    "## Ensemble of XGB, LGBM, CatBoost"
   ]
  },
  {
   "cell_type": "code",
   "execution_count": 49,
   "id": "8ff945fc",
   "metadata": {},
   "outputs": [],
   "source": [
    "ensemble_pred = (y_pred_cb+y_pred_lgbm+y_pred_xgb)/3"
   ]
  },
  {
   "cell_type": "markdown",
   "id": "93532150-bec8-4b82-acb9-8e88fc809063",
   "metadata": {},
   "source": [
    "## Submit"
   ]
  },
  {
   "cell_type": "code",
   "execution_count": 51,
   "id": "3173c522",
   "metadata": {},
   "outputs": [],
   "source": [
    "submission = pd.DataFrame(data=ensemble_pred, columns=sample_submission.columns, index=sample_submission.index)"
   ]
  },
  {
   "cell_type": "code",
   "execution_count": 52,
   "id": "c4c816e6",
   "metadata": {},
   "outputs": [],
   "source": [
    "submission.to_csv('balanced_ensemble_submission.csv', index=True)"
   ]
  },
  {
   "cell_type": "code",
   "execution_count": null,
   "id": "e08e5df2",
   "metadata": {},
   "outputs": [],
   "source": []
  }
 ],
 "metadata": {
  "kernelspec": {
   "display_name": "me",
   "language": "python",
   "name": "me"
  },
  "language_info": {
   "codemirror_mode": {
    "name": "ipython",
    "version": 3
   },
   "file_extension": ".py",
   "mimetype": "text/x-python",
   "name": "python",
   "nbconvert_exporter": "python",
   "pygments_lexer": "ipython3",
   "version": "3.8.0"
  }
 },
 "nbformat": 4,
 "nbformat_minor": 5
}
