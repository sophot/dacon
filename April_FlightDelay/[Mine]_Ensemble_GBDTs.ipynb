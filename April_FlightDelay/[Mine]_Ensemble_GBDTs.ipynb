{
 "cells": [
  {
   "cell_type": "code",
   "execution_count": 1,
   "id": "80c80339",
   "metadata": {},
   "outputs": [],
   "source": [
    "import pandas as pd\n",
    "import numpy as np\n",
    "import os, gc, time, random\n",
    "\n",
    "from xgboost import XGBClassifier\n",
    "from lightgbm import LGBMClassifier\n",
    "from catboost import CatBoostClassifier\n",
    "\n",
    "from sklearn.metrics import log_loss\n",
    "from sklearn.model_selection import GridSearchCV, train_test_split\n",
    "from sklearn.model_selection import StratifiedKFold, cross_validate\n",
    "from sklearn.preprocessing import LabelEncoder, MinMaxScaler"
   ]
  },
  {
   "cell_type": "code",
   "execution_count": 2,
   "id": "09c5ccb0",
   "metadata": {},
   "outputs": [],
   "source": [
    "def seed_everything(seed):\n",
    "    random.seed(seed)\n",
    "    os.environ['PYTHONHASHSEED'] = str(seed)\n",
    "    np.random.seed(seed)\n",
    "seed_everything(42) # Seed 고정"
   ]
  },
  {
   "cell_type": "markdown",
   "id": "817bc98a-2046-4da1-8878-5104ba931bc3",
   "metadata": {},
   "source": [
    "# csv to parquet\n",
    "메모리에 효율적인 데이터 유형을 사용하여 용량을 줄이고 빠른 작업이 가능합니다"
   ]
  },
  {
   "cell_type": "code",
   "execution_count": 3,
   "id": "7cc6c827",
   "metadata": {},
   "outputs": [],
   "source": [
    "def csv_to_parquet(csv_path, save_name):\n",
    "    df = pd.read_csv(csv_path)\n",
    "    df.to_parquet(f'./{save_name}.parquet')\n",
    "    del df\n",
    "    gc.collect()\n",
    "    print(save_name, 'Done.')# csv to parquet"
   ]
  },
  {
   "cell_type": "code",
   "execution_count": 4,
   "id": "d3b4e3f4",
   "metadata": {},
   "outputs": [
    {
     "name": "stdout",
     "output_type": "stream",
     "text": [
      "train Done.\n",
      "test Done.\n"
     ]
    }
   ],
   "source": [
    "csv_to_parquet('./train.csv', 'train')\n",
    "csv_to_parquet('./test.csv', 'test')"
   ]
  },
  {
   "cell_type": "code",
   "execution_count": 5,
   "id": "222aaa1f",
   "metadata": {},
   "outputs": [],
   "source": [
    "train = pd.read_parquet('./train.parquet')\n",
    "test = pd.read_parquet('./test.parquet')\n",
    "sample_submission = pd.read_csv('sample_submission.csv', index_col = 0)"
   ]
  },
  {
   "cell_type": "markdown",
   "id": "fdf53d4e-957d-4b3f-8d6b-0335822e1794",
   "metadata": {},
   "source": [
    "## Data Pre-Processing"
   ]
  },
  {
   "cell_type": "code",
   "execution_count": 6,
   "id": "008fcabc",
   "metadata": {},
   "outputs": [
    {
     "name": "stdout",
     "output_type": "stream",
     "text": [
      "Done.\n"
     ]
    }
   ],
   "source": [
    "#레이블(Delay)을 제외한 결측값이 존재하는 변수들을 학습 데이터의 최빈값으로 대체합니다\n",
    "NaN_col = ['Origin_State','Destination_State','Airline','Estimated_Departure_Time', 'Estimated_Arrival_Time','Carrier_Code(IATA)','Carrier_ID(DOT)']\n",
    "\n",
    "for col in NaN_col:\n",
    "    mode = train[col].mode()[0]\n",
    "    train[col] = train[col].fillna(mode)\n",
    "    \n",
    "    if col in test.columns:\n",
    "        test[col] = test[col].fillna(mode)\n",
    "print('Done.')"
   ]
  },
  {
   "cell_type": "code",
   "execution_count": 7,
   "id": "fe4c160c",
   "metadata": {},
   "outputs": [
    {
     "name": "stdout",
     "output_type": "stream",
     "text": [
      "Done.\n"
     ]
    }
   ],
   "source": [
    "#질적 변수들을 수치화합니다\n",
    "qual_col = ['Origin_Airport', 'Origin_State', 'Destination_Airport', 'Destination_State', 'Airline', 'Carrier_Code(IATA)', 'Tail_Number']\n",
    "\n",
    "for i in qual_col:\n",
    "    le = LabelEncoder()\n",
    "    le=le.fit(train[i])\n",
    "    train[i]=le.transform(train[i])\n",
    "    \n",
    "    for label in np.unique(test[i]):\n",
    "        if label not in le.classes_: \n",
    "            le.classes_ = np.append(le.classes_, label)\n",
    "    test[i]=le.transform(test[i])\n",
    "print('Done.')"
   ]
  },
  {
   "cell_type": "code",
   "execution_count": 8,
   "id": "be157ff3",
   "metadata": {},
   "outputs": [
    {
     "name": "stdout",
     "output_type": "stream",
     "text": [
      "Original Size:  (1000000, 19)\n"
     ]
    }
   ],
   "source": [
    "print(\"Original Size: \", train.shape)"
   ]
  },
  {
   "cell_type": "code",
   "execution_count": 9,
   "id": "25b30244",
   "metadata": {},
   "outputs": [],
   "source": [
    "# Drop rows with missing values\n",
    "train = train.dropna()"
   ]
  },
  {
   "cell_type": "code",
   "execution_count": 10,
   "id": "d69eecdc",
   "metadata": {},
   "outputs": [
    {
     "name": "stdout",
     "output_type": "stream",
     "text": [
      "Size After Dropping Missing Values:  (255001, 19)\n"
     ]
    }
   ],
   "source": [
    "print(\"Size After Dropping Missing Values: \", train.shape)"
   ]
  },
  {
   "cell_type": "code",
   "execution_count": 11,
   "id": "304d8b65",
   "metadata": {},
   "outputs": [
    {
     "data": {
      "text/html": [
       "<div>\n",
       "<style scoped>\n",
       "    .dataframe tbody tr th:only-of-type {\n",
       "        vertical-align: middle;\n",
       "    }\n",
       "\n",
       "    .dataframe tbody tr th {\n",
       "        vertical-align: top;\n",
       "    }\n",
       "\n",
       "    .dataframe thead th {\n",
       "        text-align: right;\n",
       "    }\n",
       "</style>\n",
       "<table border=\"1\" class=\"dataframe\">\n",
       "  <thead>\n",
       "    <tr style=\"text-align: right;\">\n",
       "      <th></th>\n",
       "      <th>ID</th>\n",
       "      <th>Month</th>\n",
       "      <th>Day_of_Month</th>\n",
       "      <th>Estimated_Departure_Time</th>\n",
       "      <th>Estimated_Arrival_Time</th>\n",
       "      <th>Cancelled</th>\n",
       "      <th>Diverted</th>\n",
       "      <th>Origin_Airport</th>\n",
       "      <th>Origin_Airport_ID</th>\n",
       "      <th>Origin_State</th>\n",
       "      <th>Destination_Airport</th>\n",
       "      <th>Destination_Airport_ID</th>\n",
       "      <th>Destination_State</th>\n",
       "      <th>Distance</th>\n",
       "      <th>Airline</th>\n",
       "      <th>Carrier_Code(IATA)</th>\n",
       "      <th>Carrier_ID(DOT)</th>\n",
       "      <th>Tail_Number</th>\n",
       "      <th>Delay</th>\n",
       "    </tr>\n",
       "  </thead>\n",
       "  <tbody>\n",
       "    <tr>\n",
       "      <th>5</th>\n",
       "      <td>TRAIN_000005</td>\n",
       "      <td>4</td>\n",
       "      <td>13</td>\n",
       "      <td>1545.0</td>\n",
       "      <td>1900.0</td>\n",
       "      <td>0</td>\n",
       "      <td>0</td>\n",
       "      <td>119</td>\n",
       "      <td>11618</td>\n",
       "      <td>4</td>\n",
       "      <td>93</td>\n",
       "      <td>11278</td>\n",
       "      <td>47</td>\n",
       "      <td>199.0</td>\n",
       "      <td>21</td>\n",
       "      <td>8</td>\n",
       "      <td>20452.0</td>\n",
       "      <td>3435</td>\n",
       "      <td>Not_Delayed</td>\n",
       "    </tr>\n",
       "    <tr>\n",
       "      <th>6</th>\n",
       "      <td>TRAIN_000006</td>\n",
       "      <td>1</td>\n",
       "      <td>20</td>\n",
       "      <td>1742.0</td>\n",
       "      <td>1903.0</td>\n",
       "      <td>0</td>\n",
       "      <td>0</td>\n",
       "      <td>119</td>\n",
       "      <td>11618</td>\n",
       "      <td>28</td>\n",
       "      <td>47</td>\n",
       "      <td>10721</td>\n",
       "      <td>19</td>\n",
       "      <td>200.0</td>\n",
       "      <td>26</td>\n",
       "      <td>8</td>\n",
       "      <td>19393.0</td>\n",
       "      <td>3495</td>\n",
       "      <td>Not_Delayed</td>\n",
       "    </tr>\n",
       "    <tr>\n",
       "      <th>8</th>\n",
       "      <td>TRAIN_000008</td>\n",
       "      <td>6</td>\n",
       "      <td>13</td>\n",
       "      <td>1420.0</td>\n",
       "      <td>1550.0</td>\n",
       "      <td>0</td>\n",
       "      <td>0</td>\n",
       "      <td>59</td>\n",
       "      <td>10821</td>\n",
       "      <td>4</td>\n",
       "      <td>74</td>\n",
       "      <td>11057</td>\n",
       "      <td>31</td>\n",
       "      <td>361.0</td>\n",
       "      <td>23</td>\n",
       "      <td>10</td>\n",
       "      <td>19393.0</td>\n",
       "      <td>4083</td>\n",
       "      <td>Not_Delayed</td>\n",
       "    </tr>\n",
       "  </tbody>\n",
       "</table>\n",
       "</div>"
      ],
      "text/plain": [
       "             ID  Month  Day_of_Month  Estimated_Departure_Time  \\\n",
       "5  TRAIN_000005      4            13                    1545.0   \n",
       "6  TRAIN_000006      1            20                    1742.0   \n",
       "8  TRAIN_000008      6            13                    1420.0   \n",
       "\n",
       "   Estimated_Arrival_Time  Cancelled  Diverted  Origin_Airport  \\\n",
       "5                  1900.0          0         0             119   \n",
       "6                  1903.0          0         0             119   \n",
       "8                  1550.0          0         0              59   \n",
       "\n",
       "   Origin_Airport_ID  Origin_State  Destination_Airport  \\\n",
       "5              11618             4                   93   \n",
       "6              11618            28                   47   \n",
       "8              10821             4                   74   \n",
       "\n",
       "   Destination_Airport_ID  Destination_State  Distance  Airline  \\\n",
       "5                   11278                 47     199.0       21   \n",
       "6                   10721                 19     200.0       26   \n",
       "8                   11057                 31     361.0       23   \n",
       "\n",
       "   Carrier_Code(IATA)  Carrier_ID(DOT)  Tail_Number        Delay  \n",
       "5                   8          20452.0         3435  Not_Delayed  \n",
       "6                   8          19393.0         3495  Not_Delayed  \n",
       "8                  10          19393.0         4083  Not_Delayed  "
      ]
     },
     "execution_count": 11,
     "metadata": {},
     "output_type": "execute_result"
    }
   ],
   "source": [
    "train.head(3)"
   ]
  },
  {
   "cell_type": "code",
   "execution_count": 12,
   "id": "74c00139",
   "metadata": {},
   "outputs": [
    {
     "data": {
      "text/plain": [
       "Not_Delayed    210001\n",
       "Delayed         45000\n",
       "Name: Delay, dtype: int64"
      ]
     },
     "execution_count": 12,
     "metadata": {},
     "output_type": "execute_result"
    }
   ],
   "source": [
    "train[\"Delay\"].value_counts()"
   ]
  },
  {
   "cell_type": "code",
   "execution_count": 13,
   "id": "a33a6e98",
   "metadata": {},
   "outputs": [
    {
     "name": "stdout",
     "output_type": "stream",
     "text": [
      "Done.\n"
     ]
    }
   ],
   "source": [
    "column_number = {}\n",
    "for i, column in enumerate(sample_submission.columns):\n",
    "    column_number[column] = i\n",
    "    \n",
    "def to_number(x, dic):\n",
    "    return dic[x]\n",
    "\n",
    "train.loc[:, 'Delay_num'] = train['Delay'].apply(lambda x: to_number(x, column_number))\n",
    "print('Done.')"
   ]
  },
  {
   "cell_type": "code",
   "execution_count": 14,
   "id": "e24256b2",
   "metadata": {},
   "outputs": [],
   "source": [
    "x_train = train.drop(columns=['ID', 'Delay', 'Delay_num'])\n",
    "y_train = train['Delay_num']\n",
    "x_test = test.drop(columns=['ID'])"
   ]
  },
  {
   "cell_type": "markdown",
   "id": "f082e530",
   "metadata": {},
   "source": [
    "## Balancing the data"
   ]
  },
  {
   "cell_type": "code",
   "execution_count": 15,
   "id": "7459fdd9",
   "metadata": {},
   "outputs": [
    {
     "data": {
      "text/plain": [
       "array([45000, 45000])"
      ]
     },
     "execution_count": 15,
     "metadata": {},
     "output_type": "execute_result"
    }
   ],
   "source": [
    "from imblearn.under_sampling import RandomUnderSampler\n",
    "\n",
    "# Resample using random undersampling\n",
    "rus = RandomUnderSampler(random_state=42)\n",
    "x_train, y_train = rus.fit_resample(x_train, y_train)\n",
    "np.bincount(y_train)"
   ]
  },
  {
   "cell_type": "markdown",
   "id": "d951db71",
   "metadata": {},
   "source": [
    "## Train-Test-Split"
   ]
  },
  {
   "cell_type": "code",
   "execution_count": 16,
   "id": "bae11a9d",
   "metadata": {},
   "outputs": [],
   "source": [
    "# Split the training dataset into a training set and a validation set\n",
    "x_train, x_val, y_train, y_val = train_test_split(x_train, y_train, test_size=0.2, random_state=42)"
   ]
  },
  {
   "cell_type": "code",
   "execution_count": 17,
   "id": "cad85e74",
   "metadata": {},
   "outputs": [],
   "source": [
    "# Normalize numerical features\n",
    "scaler = MinMaxScaler()\n",
    "x_train = scaler.fit_transform(x_train)\n",
    "x_val = scaler.transform(x_val)\n",
    "x_test = scaler.transform(x_test)"
   ]
  },
  {
   "cell_type": "markdown",
   "id": "89d39716",
   "metadata": {},
   "source": [
    "## Create GBDT models"
   ]
  },
  {
   "cell_type": "code",
   "execution_count": 18,
   "id": "ed422906",
   "metadata": {},
   "outputs": [],
   "source": [
    "# create instances of the three classifiers\n",
    "xgb = XGBClassifier()\n",
    "lgbm = LGBMClassifier()\n",
    "catboost = CatBoostClassifier(verbose=False)"
   ]
  },
  {
   "cell_type": "markdown",
   "id": "3492074d",
   "metadata": {},
   "source": [
    "## Initializing Hyper-param search space"
   ]
  },
  {
   "cell_type": "code",
   "execution_count": 24,
   "id": "0094c036",
   "metadata": {},
   "outputs": [],
   "source": [
    "# Cross-validation with StratifiedKFold\n",
    "cv = StratifiedKFold(n_splits=3, shuffle=True, random_state=42)"
   ]
  },
  {
   "cell_type": "markdown",
   "id": "885dbc1b",
   "metadata": {},
   "source": [
    "### Tuning XGB"
   ]
  },
  {
   "cell_type": "code",
   "execution_count": 34,
   "id": "c52ba92b",
   "metadata": {},
   "outputs": [
    {
     "name": "stdout",
     "output_type": "stream",
     "text": [
      "***********************\n",
      "Done.\n",
      "***********************\n"
     ]
    }
   ],
   "source": [
    "param_grid = {\n",
    "    'learning_rate': [0.065],\n",
    "    'max_depth': [5],\n",
    "    'n_estimators': [250, 300],\n",
    "}\n",
    "\n",
    "xgb_grid_search = GridSearchCV(xgb, param_grid=param_grid, cv=cv, scoring='neg_log_loss')\n",
    "xgb_grid_search.fit(x_train, y_train)\n",
    "print(\"Done.\")"
   ]
  },
  {
   "cell_type": "code",
   "execution_count": 31,
   "id": "aeac7720",
   "metadata": {},
   "outputs": [
    {
     "name": "stdout",
     "output_type": "stream",
     "text": [
      "[XGB] LogLoss on validation set: 0.6527280361561312\n",
      "{'learning_rate': 0.065, 'max_depth': 5, 'n_estimators': 300}\n"
     ]
    }
   ],
   "source": [
    "xgb_best = xgb_grid_search.best_estimator_\n",
    "y_pred_xgb = xgb_best.predict_proba(x_val)\n",
    "logloss = log_loss(y_val, y_pred_xgb)\n",
    "print(\"[XGB] LogLoss on validation set:\", logloss)\n",
    "print(xgb_grid_search.best_params_)"
   ]
  },
  {
   "cell_type": "markdown",
   "id": "2020bf65",
   "metadata": {},
   "source": [
    "### LightGBM"
   ]
  },
  {
   "cell_type": "code",
   "execution_count": 40,
   "id": "8acc19fe",
   "metadata": {},
   "outputs": [
    {
     "name": "stdout",
     "output_type": "stream",
     "text": [
      "Done.\n"
     ]
    }
   ],
   "source": [
    "param_grid = {\n",
    "    'learning_rate': [0.025, 0.03, 0.035],\n",
    "    'max_depth': [6, 7],\n",
    "    'n_estimators': [400, 450],\n",
    "}\n",
    "\n",
    "lgbm_grid_search = GridSearchCV(lgbm, param_grid=param_grid, cv=cv, scoring='neg_log_loss')\n",
    "lgbm_grid_search.fit(x_train, y_train)\n",
    "print(\"Done.\")"
   ]
  },
  {
   "cell_type": "code",
   "execution_count": 39,
   "id": "4e82bf40",
   "metadata": {},
   "outputs": [
    {
     "name": "stdout",
     "output_type": "stream",
     "text": [
      "[LightGBM] LogLoss on validation set: 0.6530588494205606\n",
      "{'learning_rate': 0.033, 'max_depth': 6, 'n_estimators': 450}\n"
     ]
    }
   ],
   "source": [
    "lgbm_best = lgbm_grid_search.best_estimator_\n",
    "y_pred_lgbm = lgbm_best.predict_proba(x_val)\n",
    "logloss = log_loss(y_val, y_pred_lgbm)\n",
    "print(\"[LightGBM] LogLoss on validation set:\", logloss)\n",
    "print(lgbm_grid_search.best_params_)"
   ]
  },
  {
   "cell_type": "markdown",
   "id": "3b9691bb",
   "metadata": {},
   "source": [
    "### CatBoost"
   ]
  },
  {
   "cell_type": "code",
   "execution_count": 46,
   "id": "f85510ae",
   "metadata": {},
   "outputs": [
    {
     "name": "stdout",
     "output_type": "stream",
     "text": [
      "Done.\n"
     ]
    }
   ],
   "source": [
    "param_grid = {\n",
    "    'learning_rate': [0.065],\n",
    "    'max_depth': [6],\n",
    "    'n_estimators': [450],\n",
    "}\n",
    "\n",
    "catboost_grid_search = GridSearchCV(catboost, param_grid=param_grid, cv=cv, scoring='neg_log_loss')\n",
    "catboost_grid_search.fit(x_train, y_train)\n",
    "print(\"Done.\")"
   ]
  },
  {
   "cell_type": "code",
   "execution_count": 47,
   "id": "28e9cf97",
   "metadata": {},
   "outputs": [
    {
     "name": "stdout",
     "output_type": "stream",
     "text": [
      "[CatBoost] LogLoss on validation set: 0.6538445748604201\n",
      "{'learning_rate': 0.066, 'max_depth': 6, 'n_estimators': 450}\n"
     ]
    }
   ],
   "source": [
    "catboost_best = catboost_grid_search.best_estimator_\n",
    "y_pred_cb = catboost_best.predict_proba(x_val)\n",
    "logloss = log_loss(y_val, y_pred_cb)\n",
    "print(\"[CatBoost] LogLoss on validation set:\", logloss)"
   ]
  },
  {
   "cell_type": "markdown",
   "id": "3a64dfcb",
   "metadata": {},
   "source": [
    "## Train"
   ]
  },
  {
   "cell_type": "code",
   "execution_count": 19,
   "id": "51fdf85d",
   "metadata": {},
   "outputs": [],
   "source": [
    "x_train, y_train = np.concatenate((x_train, x_val)), np.concatenate((y_train, y_val))"
   ]
  },
  {
   "cell_type": "code",
   "execution_count": 20,
   "id": "729a1307",
   "metadata": {},
   "outputs": [
    {
     "name": "stdout",
     "output_type": "stream",
     "text": [
      "==>> TRAINING model 1\n",
      "=== Time took : (6.32) seconds ===\n",
      "==>> TRAINING model 2\n",
      "=== Time took : (7.20) seconds ===\n",
      "==>> TRAINING model 3\n",
      "=== Time took : (1.04) seconds ===\n",
      "==>> TRAINING model 4\n",
      "=== Time took : (1.15) seconds ===\n",
      "==>> TRAINING model 5\n",
      "=== Time took : (3.51) seconds ===\n"
     ]
    }
   ],
   "source": [
    "xgb_params = {\n",
    "    'learning_rate' : 0.065,\n",
    "    'objective' : 'binary:logistic',\n",
    "    'eval_metric' : 'logloss',\n",
    "    'max_depth' : 5\n",
    "}\n",
    "xgb1 = XGBClassifier(**xgb_params, n_estimators=250)\n",
    "xgb2 = XGBClassifier(**xgb_params, n_estimators=300)\n",
    "\n",
    "########################################\n",
    "\n",
    "lgbm_params = {\n",
    "    'learning_rate' : 0.033,\n",
    "    'objective' : 'binary',\n",
    "    'metric' : 'binary_logloss'\n",
    "}\n",
    "lgbm1 = LGBMClassifier(**lgbm_params, n_estimators=400, max_depth=7)\n",
    "lgbm2 = LGBMClassifier(**lgbm_params, n_estimators=450, max_depth=6)\n",
    "\n",
    "########################################\n",
    "\n",
    "cb_params = {\n",
    "    'loss_function' : 'Logloss',\n",
    "    'learning_rate': 0.066, \n",
    "    'max_depth': 6, \n",
    "    'n_estimators': 450\n",
    "}\n",
    "cb = CatBoostClassifier(**cb_params, verbose=False)\n",
    "\n",
    "\n",
    "all_models = [xgb1, xgb2, lgbm1, lgbm2, cb]\n",
    "for i, model in enumerate(all_models):\n",
    "    start_time = time.time()\n",
    "    print(\"==>> TRAINING model\", i+1)\n",
    "    \n",
    "    model.fit(x_train, y_train)\n",
    "    \n",
    "    end_time = time.time()\n",
    "    duration = (end_time-start_time)\n",
    "    print(f\"=== Time took : ({duration:.2f}) seconds ===\")\n",
    "print(\"Done.\")"
   ]
  },
  {
   "cell_type": "markdown",
   "id": "12d9ab1a",
   "metadata": {},
   "source": [
    "## Inference"
   ]
  },
  {
   "cell_type": "code",
   "execution_count": 21,
   "id": "0e5a289f",
   "metadata": {},
   "outputs": [
    {
     "name": "stdout",
     "output_type": "stream",
     "text": [
      "Done.\n"
     ]
    }
   ],
   "source": [
    "y_pred_xgb1 = xgb1.predict_proba(x_test)\n",
    "y_pred_xgb2 = xgb2.predict_proba(x_test)\n",
    "y_pred_lgbm1 = lgbm1.predict_proba(x_test)\n",
    "y_pred_lgbm2 = lgbm2.predict_proba(x_test)\n",
    "y_pred_cb = cb.predict_proba(x_test)\n",
    "print(\"Done.\")"
   ]
  },
  {
   "cell_type": "markdown",
   "id": "e0767f8f",
   "metadata": {},
   "source": [
    "## Ensemble of XGB, LGBM, CatBoost"
   ]
  },
  {
   "cell_type": "code",
   "execution_count": 22,
   "id": "8ff945fc",
   "metadata": {},
   "outputs": [],
   "source": [
    "ensemble_pred = (y_pred_xgb1+y_pred_xgb2+y_pred_lgbm1+y_pred_lgbm2+y_pred_cb)/5"
   ]
  },
  {
   "cell_type": "markdown",
   "id": "93532150-bec8-4b82-acb9-8e88fc809063",
   "metadata": {},
   "source": [
    "## Submit"
   ]
  },
  {
   "cell_type": "code",
   "execution_count": 23,
   "id": "3173c522",
   "metadata": {},
   "outputs": [],
   "source": [
    "submission = pd.DataFrame(data=ensemble_pred, columns=sample_submission.columns, index=sample_submission.index)"
   ]
  },
  {
   "cell_type": "code",
   "execution_count": 24,
   "id": "c4c816e6",
   "metadata": {},
   "outputs": [],
   "source": [
    "submission.to_csv('2_ensemble_5models_submission.csv', index=True)"
   ]
  },
  {
   "cell_type": "code",
   "execution_count": null,
   "id": "ff1c0597",
   "metadata": {},
   "outputs": [],
   "source": []
  }
 ],
 "metadata": {
  "kernelspec": {
   "display_name": "me",
   "language": "python",
   "name": "me"
  },
  "language_info": {
   "codemirror_mode": {
    "name": "ipython",
    "version": 3
   },
   "file_extension": ".py",
   "mimetype": "text/x-python",
   "name": "python",
   "nbconvert_exporter": "python",
   "pygments_lexer": "ipython3",
   "version": "3.8.0"
  }
 },
 "nbformat": 4,
 "nbformat_minor": 5
}
