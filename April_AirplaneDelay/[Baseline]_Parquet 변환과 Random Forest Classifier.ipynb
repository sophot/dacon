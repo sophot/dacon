{
 "cells": [
  {
   "cell_type": "markdown",
   "id": "46469143-4dc6-45fc-a170-8f8ff0d5cadb",
   "metadata": {},
   "source": [
    "# Import"
   ]
  },
  {
   "cell_type": "code",
   "execution_count": 1,
   "id": "92e7a046-0bad-4e73-be84-f1bb3cb4dd69",
   "metadata": {},
   "outputs": [],
   "source": [
    "import pandas as pd\n",
    "import numpy as np\n",
    "import random\n",
    "import os\n",
    "import gc\n",
    "\n",
    "from sklearn.ensemble import RandomForestClassifier\n",
    "from sklearn.preprocessing import LabelEncoder"
   ]
  },
  {
   "cell_type": "code",
   "execution_count": 2,
   "id": "e4a25bfd-d2ec-4340-a613-720494952bc1",
   "metadata": {},
   "outputs": [],
   "source": [
    "def seed_everything(seed):\n",
    "    random.seed(seed)\n",
    "    os.environ['PYTHONHASHSEED'] = str(seed)\n",
    "    np.random.seed(seed)\n",
    "seed_everything(42) # Seed 고정"
   ]
  },
  {
   "cell_type": "markdown",
   "id": "817bc98a-2046-4da1-8878-5104ba931bc3",
   "metadata": {},
   "source": [
    "# csv to parquet\n",
    "메모리에 효율적인 데이터 유형을 사용하여 용량을 줄이고 빠른 작업이 가능합니다"
   ]
  },
  {
   "cell_type": "code",
   "execution_count": 3,
   "id": "2d5e4bd1-100d-4c50-89bf-59fe47b4cdc5",
   "metadata": {},
   "outputs": [],
   "source": [
    "def csv_to_parquet(csv_path, save_name):\n",
    "    df = pd.read_csv(csv_path)\n",
    "    df.to_parquet(f'./{save_name}.parquet')\n",
    "    del df\n",
    "    gc.collect()\n",
    "    print(save_name, 'Done.')"
   ]
  },
  {
   "cell_type": "code",
   "execution_count": 4,
   "id": "5adaf4ff-d681-43a1-b90f-f674481a4700",
   "metadata": {},
   "outputs": [
    {
     "name": "stdout",
     "output_type": "stream",
     "text": [
      "train Done.\n",
      "test Done.\n"
     ]
    }
   ],
   "source": [
    "csv_to_parquet('./train.csv', 'train')\n",
    "csv_to_parquet('./test.csv', 'test')"
   ]
  },
  {
   "cell_type": "markdown",
   "id": "207c6ea8-f8eb-4b87-9783-1930ee9417f1",
   "metadata": {},
   "source": [
    "# Data Load"
   ]
  },
  {
   "cell_type": "code",
   "execution_count": 5,
   "id": "0efe7ed9-f622-4790-b9f1-cae9490a29ba",
   "metadata": {},
   "outputs": [],
   "source": [
    "train = pd.read_parquet('./train.parquet')\n",
    "test = pd.read_parquet('./test.parquet')\n",
    "sample_submission = pd.read_csv('sample_submission.csv', index_col = 0)"
   ]
  },
  {
   "cell_type": "markdown",
   "id": "fdf53d4e-957d-4b3f-8d6b-0335822e1794",
   "metadata": {},
   "source": [
    "# Data Pre-Processing"
   ]
  },
  {
   "cell_type": "code",
   "execution_count": 6,
   "id": "09400c3d-893e-4341-a710-bcb78cea761e",
   "metadata": {},
   "outputs": [
    {
     "name": "stdout",
     "output_type": "stream",
     "text": [
      "Done.\n"
     ]
    }
   ],
   "source": [
    "#레이블(Delay)을 제외한 결측값이 존재하는 변수들을 학습 데이터의 최빈값으로 대체합니다\n",
    "NaN_col = ['Origin_State','Destination_State','Airline','Estimated_Departure_Time', 'Estimated_Arrival_Time','Carrier_Code(IATA)','Carrier_ID(DOT)']\n",
    "\n",
    "for col in NaN_col:\n",
    "    mode = train[col].mode()[0]\n",
    "    train[col] = train[col].fillna(mode)\n",
    "    \n",
    "    if col in test.columns:\n",
    "        test[col] = test[col].fillna(mode)\n",
    "print('Done.')"
   ]
  },
  {
   "cell_type": "code",
   "execution_count": 7,
   "id": "61a40696-65f4-4021-8bc6-1d27177f1b63",
   "metadata": {},
   "outputs": [
    {
     "name": "stdout",
     "output_type": "stream",
     "text": [
      "Done.\n"
     ]
    }
   ],
   "source": [
    "#질적 변수들을 수치화합니다\n",
    "qual_col = ['Origin_Airport', 'Origin_State', 'Destination_Airport', 'Destination_State', 'Airline', 'Carrier_Code(IATA)', 'Tail_Number']\n",
    "\n",
    "for i in qual_col:\n",
    "    le = LabelEncoder()\n",
    "    le=le.fit(train[i])\n",
    "    train[i]=le.transform(train[i])\n",
    "    \n",
    "    for label in np.unique(test[i]):\n",
    "        if label not in le.classes_: \n",
    "            le.classes_ = np.append(le.classes_, label)\n",
    "    test[i]=le.transform(test[i])\n",
    "print('Done.')"
   ]
  },
  {
   "cell_type": "code",
   "execution_count": 8,
   "id": "8d4f8da0-b588-42cc-819b-bf32e9e2cd28",
   "metadata": {},
   "outputs": [],
   "source": [
    "#레이블이 없는 데이터들을 제거합니다\n",
    "train = train.dropna()"
   ]
  },
  {
   "cell_type": "code",
   "execution_count": 9,
   "id": "d9e11da9-1903-42a3-bb7b-02efaa1f9d9f",
   "metadata": {
    "tags": []
   },
   "outputs": [
    {
     "name": "stdout",
     "output_type": "stream",
     "text": [
      "Done.\n"
     ]
    }
   ],
   "source": [
    "column_number = {}\n",
    "for i, column in enumerate(sample_submission.columns):\n",
    "    column_number[column] = i\n",
    "    \n",
    "def to_number(x, dic):\n",
    "    return dic[x]\n",
    "\n",
    "train.loc[:, 'Delay_num'] = train['Delay'].apply(lambda x: to_number(x, column_number))\n",
    "print('Done.')"
   ]
  },
  {
   "cell_type": "code",
   "execution_count": 10,
   "id": "08a9b8b1-a8ba-4d14-8cd7-054510cbad10",
   "metadata": {},
   "outputs": [],
   "source": [
    "train_x = train.drop(columns=['ID', 'Delay', 'Delay_num'])\n",
    "train_y = train['Delay_num']\n",
    "test_x = test.drop(columns=['ID'])"
   ]
  },
  {
   "cell_type": "markdown",
   "id": "9c089825-3983-4d4a-8bf9-9418cc1db1b0",
   "metadata": {},
   "source": [
    "# Classification Model Fit"
   ]
  },
  {
   "cell_type": "code",
   "execution_count": 11,
   "id": "1810fd3d-1349-4fca-ace7-eedec7371025",
   "metadata": {},
   "outputs": [
    {
     "data": {
      "text/plain": [
       "RandomForestClassifier()"
      ]
     },
     "execution_count": 11,
     "metadata": {},
     "output_type": "execute_result"
    }
   ],
   "source": [
    "clf = RandomForestClassifier()\n",
    "clf.fit(train_x, train_y)"
   ]
  },
  {
   "cell_type": "markdown",
   "id": "9fbc21c7-bfc6-4e8d-a7f5-d23fa51c73b5",
   "metadata": {},
   "source": [
    "# Inference"
   ]
  },
  {
   "cell_type": "code",
   "execution_count": 12,
   "id": "4255d4e7-258a-490f-b484-0a7a62bf62bb",
   "metadata": {},
   "outputs": [],
   "source": [
    "y_pred = clf.predict_proba(test_x)"
   ]
  },
  {
   "cell_type": "markdown",
   "id": "93532150-bec8-4b82-acb9-8e88fc809063",
   "metadata": {},
   "source": [
    "# Submit"
   ]
  },
  {
   "cell_type": "code",
   "execution_count": 13,
   "id": "f35843bb-7a8f-45c3-a626-3727fa96a588",
   "metadata": {},
   "outputs": [],
   "source": [
    "submission = pd.DataFrame(data=y_pred, columns=sample_submission.columns, index=sample_submission.index)"
   ]
  },
  {
   "cell_type": "code",
   "execution_count": 14,
   "id": "c91f2c9a-953c-48ca-a624-d4ad1bb72df9",
   "metadata": {},
   "outputs": [],
   "source": [
    "submission.to_csv('baseline_submission.csv', index=True)"
   ]
  }
 ],
 "metadata": {
  "kernelspec": {
   "display_name": "Python 3",
   "language": "python",
   "name": "python3"
  },
  "language_info": {
   "codemirror_mode": {
    "name": "ipython",
    "version": 3
   },
   "file_extension": ".py",
   "mimetype": "text/x-python",
   "name": "python",
   "nbconvert_exporter": "python",
   "pygments_lexer": "ipython3",
   "version": "3.8.3"
  }
 },
 "nbformat": 4,
 "nbformat_minor": 5
}
